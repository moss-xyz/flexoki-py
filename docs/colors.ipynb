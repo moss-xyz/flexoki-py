{
 "cells": [
  {
   "cell_type": "markdown",
   "metadata": {},
   "source": [
    "## The `Color` class\n",
    "\n",
    "The `Color` class defines a *single color* in the Flexoki system. Each `Color` will have the following attributes:\n",
    "\n",
    "- `name`: The string name of the color, generally of the form `hue-lightness` (with a dash `-` separating the two). This string name can be used to access the color using dictionary-style retrieval (see below). Example: `red-150`.\n",
    "\n",
    "- `h`: The hue of the color, using a single character for representation. This is intuitive for most colors (`r` for reds, `g` for greens), but the values spanning `paper` to `black` (referred to as `grey`, `gray`, or `base`) are represented by a `k`.\n",
    "\n",
    "- `l`: The lightness value of the color, as an integer. While technically spanning `0` to `1000`, these two values represent `paper` (white) and `black` respectively, so most values with an actual color to them will span `50` to `950`, with increments of either 50 or 100. Note that not all lightness values are assigned! Ex. `550` is not used, even though `150` and `850` are. Refer to the Flexoki documentation for details.\n",
    "\n",
    "- `hex`: The hex code of the color, represented as a string of the form `#RRGGBB`. Note that this is stored on its own, and is not dynamically computed from the `rgb` value!\n",
    "\n",
    "- `rgb`: A tuple with a length of three, representing the red, green, and blue values of the color, with each being an integer. Note that this is stored on its own, and is not dynamically computed from the `hex` value!"
   ]
  },
  {
   "cell_type": "code",
   "execution_count": 1,
   "metadata": {},
   "outputs": [
    {
     "name": "stdout",
     "output_type": "stream",
     "text": [
      "The value of h is: r\n",
      "The value of l is: 150\n",
      "The value of hex is: #FDB2A2\n",
      "The value of rgb is: (253, 178, 162)\n"
     ]
    }
   ],
   "source": [
    "# Importing the kernel\n",
    "from flexoki import Flexoki\n",
    "# Accessing a color: red-150\n",
    "c = Flexoki.colors[\"red-150\"]\n",
    "# Displaying each of its attributes\n",
    "print(f\"The value of h is: {c.h}\")\n",
    "print(f\"The value of l is: {c.l}\")\n",
    "print(f\"The value of hex is: {c.hex}\")\n",
    "print(f\"The value of rgb is: {c.rgb}\")"
   ]
  },
  {
   "cell_type": "markdown",
   "metadata": {},
   "source": [
    "Several additional properties exist for this class as well:\n",
    "\n",
    "- `hue` and `lightness` are alternative ways of accessing the values `h` and `l`, respectively.\n",
    "\n",
    "- `rgba` will return a 4-tuple of the 3 `rgb` values, plus an a(lpha) value of 1.\n",
    "\n",
    "- Each of `r`, `g`, and `b` are separately callable."
   ]
  },
  {
   "cell_type": "code",
   "execution_count": 2,
   "metadata": {},
   "outputs": [
    {
     "name": "stdout",
     "output_type": "stream",
     "text": [
      "The value of hue is: r\n",
      "The value of lightness is: 150\n",
      "The value of rgba is: (253, 178, 162, 1)\n",
      "The value of r is: 253\n",
      "The value of g is: 178\n",
      "The value of b is: 162\n"
     ]
    }
   ],
   "source": [
    "print(f\"The value of hue is: {c.hue}\")\n",
    "print(f\"The value of lightness is: {c.lightness}\")\n",
    "print(f\"The value of rgba is: {c.rgba}\")\n",
    "print(f\"The value of r is: {c.r}\")\n",
    "print(f\"The value of g is: {c.g}\")\n",
    "print(f\"The value of b is: {c.b}\")"
   ]
  },
  {
   "cell_type": "markdown",
   "metadata": {},
   "source": [
    "## `FlexokiSchema.colors`\n",
    "\n",
    "As shown in the example above, colors are primarily accessed via the `colors` subclass of the `FlexokiSchema` object (usually imported as `Flexoki`).\n",
    "\n",
    "Colors can be selected using \"dictionary-style\" recall, as above, from either the `colors` subclass or the `FlexokiSchema` object. They also exist as individual attributes of the `colors` subclass, with one notable difference: the dashes `-` are replaced with underscores `_` due to the limitation of Python's naming conventions."
   ]
  },
  {
   "cell_type": "code",
   "execution_count": 3,
   "metadata": {},
   "outputs": [
    {
     "data": {
      "text/plain": [
       "Color(name='red-150', h='r', l=150, hex='#FDB2A2', rgb=(253, 178, 162))"
      ]
     },
     "execution_count": 3,
     "metadata": {},
     "output_type": "execute_result"
    }
   ],
   "source": [
    "from flexoki import Flexoki\n",
    "# Dictionary-style calling\n",
    "Flexoki.colors[\"red-150\"]\n",
    "Flexoki[\"red-150\"] # equivalent to above\n",
    "# Attribute-style calling\n",
    "Flexoki.colors.red_150 # note the underscore!"
   ]
  },
  {
   "cell_type": "markdown",
   "metadata": {},
   "source": [
    "The `colors` subclass also has a few defined attributes and methods within it:\n",
    "\n",
    "- `dict`: Returns a dictionary of all colors, where the key is the *name* of the color and the value is another dictionary with all of the attributes of each color (ex. `{\"red-150\": {\"h\":\"r\", \"l\":150, etc.}}`).\n",
    "\n",
    "- `to_list`: Returns a list of all colors, as `Color` objects.\n",
    "\n",
    "- `_update_defaults` and `get_defaults`: These methods are explained in the documentation on *theming*.\n",
    "\n",
    "- `filter`: This method is explained in the documentation on *filtering*."
   ]
  },
  {
   "cell_type": "code",
   "execution_count": 4,
   "metadata": {},
   "outputs": [
    {
     "data": {
      "text/plain": [
       "{'paper': {'h': 'k', 'l': 0, 'hex': '#FFFCF0', 'rgb': (255, 252, 240)},\n",
       " 'base-0': {'h': 'k', 'l': 0, 'hex': '#FFFCF0', 'rgb': (255, 252, 240)},\n",
       " 'base-50': {'h': 'k', 'l': 50, 'hex': '#F2F0E5', 'rgb': (242, 240, 229)},\n",
       " 'base-100': {'h': 'k', 'l': 100, 'hex': '#E6E4D9', 'rgb': (230, 228, 217)},\n",
       " 'base-150': {'h': 'k', 'l': 150, 'hex': '#DAD8CE', 'rgb': (218, 216, 206)},\n",
       " 'base-200': {'h': 'k', 'l': 200, 'hex': '#CECDC3', 'rgb': (206, 205, 195)},\n",
       " 'base-300': {'h': 'k', 'l': 300, 'hex': '#B7B5AC', 'rgb': (183, 181, 172)},\n",
       " 'base-400': {'h': 'k', 'l': 400, 'hex': '#9F9D96', 'rgb': (159, 157, 150)},\n",
       " 'base-500': {'h': 'k', 'l': 500, 'hex': '#878580', 'rgb': (135, 133, 128)},\n",
       " 'base-600': {'h': 'k', 'l': 600, 'hex': '#6F6E69', 'rgb': (111, 110, 105)},\n",
       " 'base-700': {'h': 'k', 'l': 700, 'hex': '#575653', 'rgb': (87, 86, 83)},\n",
       " 'base-800': {'h': 'k', 'l': 800, 'hex': '#403E3C', 'rgb': (64, 62, 60)},\n",
       " 'base-850': {'h': 'k', 'l': 850, 'hex': '#343331', 'rgb': (52, 51, 49)},\n",
       " 'base-900': {'h': 'k', 'l': 900, 'hex': '#282726', 'rgb': (40, 39, 38)},\n",
       " 'base-950': {'h': 'k', 'l': 950, 'hex': '#1C1B1A', 'rgb': (28, 27, 26)},\n",
       " 'base-1000': {'h': 'k', 'l': 1000, 'hex': '#100F0F', 'rgb': (16, 15, 15)},\n",
       " 'black': {'h': 'k', 'l': 1000, 'hex': '#100F0F', 'rgb': (16, 15, 15)},\n",
       " 'red-50': {'h': 'r', 'l': 50, 'hex': '#FFE1D5', 'rgb': (255, 225, 213)},\n",
       " 'red-100': {'h': 'r', 'l': 100, 'hex': '#FFCABB', 'rgb': (255, 202, 187)},\n",
       " 'red-150': {'h': 'r', 'l': 150, 'hex': '#FDB2A2', 'rgb': (253, 178, 162)},\n",
       " 'red-200': {'h': 'r', 'l': 200, 'hex': '#F89A8A', 'rgb': (248, 154, 138)},\n",
       " 'red-300': {'h': 'r', 'l': 300, 'hex': '#E8705F', 'rgb': (232, 112, 95)},\n",
       " 'red-400': {'h': 'r', 'l': 400, 'hex': '#D14D41', 'rgb': (209, 77, 65)},\n",
       " 'red-500': {'h': 'r', 'l': 500, 'hex': '#C03E35', 'rgb': (192, 62, 53)},\n",
       " 'red-600': {'h': 'r', 'l': 600, 'hex': '#AF3029', 'rgb': (175, 48, 41)},\n",
       " 'red-700': {'h': 'r', 'l': 700, 'hex': '#942822', 'rgb': (148, 40, 34)},\n",
       " 'red-800': {'h': 'r', 'l': 800, 'hex': '#6C201C', 'rgb': (108, 32, 28)},\n",
       " 'red-850': {'h': 'r', 'l': 850, 'hex': '#551B18', 'rgb': (85, 27, 24)},\n",
       " 'red-900': {'h': 'r', 'l': 900, 'hex': '#3E1715', 'rgb': (62, 23, 21)},\n",
       " 'red-950': {'h': 'r', 'l': 950, 'hex': '#261312', 'rgb': (38, 19, 18)},\n",
       " 'orange-50': {'h': 'o', 'l': 50, 'hex': '#FFE7CE', 'rgb': (255, 231, 206)},\n",
       " 'orange-100': {'h': 'o', 'l': 100, 'hex': '#FED3AF', 'rgb': (254, 211, 175)},\n",
       " 'orange-150': {'h': 'o', 'l': 150, 'hex': '#FCC192', 'rgb': (252, 193, 146)},\n",
       " 'orange-200': {'h': 'o', 'l': 200, 'hex': '#F9AE77', 'rgb': (249, 174, 119)},\n",
       " 'orange-300': {'h': 'o', 'l': 300, 'hex': '#EC8B49', 'rgb': (236, 139, 73)},\n",
       " 'orange-400': {'h': 'o', 'l': 400, 'hex': '#DA702C', 'rgb': (218, 112, 44)},\n",
       " 'orange-500': {'h': 'o', 'l': 500, 'hex': '#CB6120', 'rgb': (203, 97, 32)},\n",
       " 'orange-600': {'h': 'o', 'l': 600, 'hex': '#BC5215', 'rgb': (188, 82, 21)},\n",
       " 'orange-700': {'h': 'o', 'l': 700, 'hex': '#9D4310', 'rgb': (157, 67, 16)},\n",
       " 'orange-800': {'h': 'o', 'l': 800, 'hex': '#71320D', 'rgb': (113, 50, 13)},\n",
       " 'orange-850': {'h': 'o', 'l': 850, 'hex': '#59290D', 'rgb': (89, 41, 13)},\n",
       " 'orange-900': {'h': 'o', 'l': 900, 'hex': '#40200D', 'rgb': (64, 32, 13)},\n",
       " 'orange-950': {'h': 'o', 'l': 950, 'hex': '#27180E', 'rgb': (39, 24, 14)},\n",
       " 'yellow-50': {'h': 'y', 'l': 50, 'hex': '#FAEEC6', 'rgb': (250, 238, 198)},\n",
       " 'yellow-100': {'h': 'y', 'l': 100, 'hex': '#F6E2A0', 'rgb': (246, 226, 160)},\n",
       " 'yellow-150': {'h': 'y', 'l': 150, 'hex': '#F1D67E', 'rgb': (241, 214, 126)},\n",
       " 'yellow-200': {'h': 'y', 'l': 200, 'hex': '#ECCB60', 'rgb': (236, 203, 96)},\n",
       " 'yellow-300': {'h': 'y', 'l': 300, 'hex': '#DFB431', 'rgb': (223, 180, 49)},\n",
       " 'yellow-400': {'h': 'y', 'l': 400, 'hex': '#D0A215', 'rgb': (208, 162, 21)},\n",
       " 'yellow-500': {'h': 'y', 'l': 500, 'hex': '#BE9207', 'rgb': (190, 146, 7)},\n",
       " 'yellow-600': {'h': 'y', 'l': 600, 'hex': '#AD8301', 'rgb': (173, 131, 1)},\n",
       " 'yellow-700': {'h': 'y', 'l': 700, 'hex': '#8E6B01', 'rgb': (142, 107, 1)},\n",
       " 'yellow-800': {'h': 'y', 'l': 800, 'hex': '#664D01', 'rgb': (102, 77, 1)},\n",
       " 'yellow-850': {'h': 'y', 'l': 850, 'hex': '#503D02', 'rgb': (80, 61, 2)},\n",
       " 'yellow-900': {'h': 'y', 'l': 900, 'hex': '#3A2D04', 'rgb': (58, 45, 4)},\n",
       " 'yellow-950': {'h': 'y', 'l': 950, 'hex': '#241E08', 'rgb': (36, 30, 8)},\n",
       " 'green-50': {'h': 'g', 'l': 50, 'hex': '#EDEECF', 'rgb': (237, 238, 207)},\n",
       " 'green-100': {'h': 'g', 'l': 100, 'hex': '#DDE2B2', 'rgb': (221, 226, 178)},\n",
       " 'green-150': {'h': 'g', 'l': 150, 'hex': '#CDD597', 'rgb': (205, 213, 151)},\n",
       " 'green-200': {'h': 'g', 'l': 200, 'hex': '#BEC97E', 'rgb': (190, 201, 126)},\n",
       " 'green-300': {'h': 'g', 'l': 300, 'hex': '#A0AF54', 'rgb': (160, 175, 84)},\n",
       " 'green-400': {'h': 'g', 'l': 400, 'hex': '#879A39', 'rgb': (135, 154, 57)},\n",
       " 'green-500': {'h': 'g', 'l': 500, 'hex': '#768D21', 'rgb': (118, 141, 33)},\n",
       " 'green-600': {'h': 'g', 'l': 600, 'hex': '#66800B', 'rgb': (102, 128, 11)},\n",
       " 'green-700': {'h': 'g', 'l': 700, 'hex': '#536907', 'rgb': (83, 105, 7)},\n",
       " 'green-800': {'h': 'g', 'l': 800, 'hex': '#3D4C07', 'rgb': (61, 76, 7)},\n",
       " 'green-850': {'h': 'g', 'l': 850, 'hex': '#313D07', 'rgb': (49, 61, 7)},\n",
       " 'green-900': {'h': 'g', 'l': 900, 'hex': '#252D09', 'rgb': (37, 45, 9)},\n",
       " 'green-950': {'h': 'g', 'l': 950, 'hex': '#1A1E0C', 'rgb': (26, 30, 12)},\n",
       " 'cyan-50': {'h': 'c', 'l': 50, 'hex': '#DDF1E4', 'rgb': (221, 241, 228)},\n",
       " 'cyan-100': {'h': 'c', 'l': 100, 'hex': '#BFE8D9', 'rgb': (191, 232, 217)},\n",
       " 'cyan-150': {'h': 'c', 'l': 150, 'hex': '#A2DECE', 'rgb': (162, 222, 206)},\n",
       " 'cyan-200': {'h': 'c', 'l': 200, 'hex': '#87D3C3', 'rgb': (135, 211, 195)},\n",
       " 'cyan-300': {'h': 'c', 'l': 300, 'hex': '#5ABDAC', 'rgb': (90, 189, 172)},\n",
       " 'cyan-400': {'h': 'c', 'l': 400, 'hex': '#3AA99F', 'rgb': (58, 169, 159)},\n",
       " 'cyan-500': {'h': 'c', 'l': 500, 'hex': '#2F968D', 'rgb': (47, 150, 141)},\n",
       " 'cyan-600': {'h': 'c', 'l': 600, 'hex': '#24837B', 'rgb': (36, 131, 123)},\n",
       " 'cyan-700': {'h': 'c', 'l': 700, 'hex': '#1C6C66', 'rgb': (28, 108, 102)},\n",
       " 'cyan-800': {'h': 'c', 'l': 800, 'hex': '#164F4A', 'rgb': (22, 79, 74)},\n",
       " 'cyan-850': {'h': 'c', 'l': 850, 'hex': '#143F3C', 'rgb': (20, 63, 60)},\n",
       " 'cyan-900': {'h': 'c', 'l': 900, 'hex': '#122F2C', 'rgb': (18, 47, 44)},\n",
       " 'cyan-950': {'h': 'c', 'l': 950, 'hex': '#101F1D', 'rgb': (16, 31, 29)},\n",
       " 'blue-50': {'h': 'b', 'l': 50, 'hex': '#E1ECEB', 'rgb': (225, 236, 235)},\n",
       " 'blue-100': {'h': 'b', 'l': 100, 'hex': '#C6DDE8', 'rgb': (198, 221, 232)},\n",
       " 'blue-150': {'h': 'b', 'l': 150, 'hex': '#ABCFE2', 'rgb': (171, 207, 226)},\n",
       " 'blue-200': {'h': 'b', 'l': 200, 'hex': '#92BFDB', 'rgb': (146, 191, 219)},\n",
       " 'blue-300': {'h': 'b', 'l': 300, 'hex': '#66A0C8', 'rgb': (102, 160, 200)},\n",
       " 'blue-400': {'h': 'b', 'l': 400, 'hex': '#4385BE', 'rgb': (67, 133, 190)},\n",
       " 'blue-500': {'h': 'b', 'l': 500, 'hex': '#3171B2', 'rgb': (49, 113, 178)},\n",
       " 'blue-600': {'h': 'b', 'l': 600, 'hex': '#205EA6', 'rgb': (32, 94, 166)},\n",
       " 'blue-700': {'h': 'b', 'l': 700, 'hex': '#1A4F8C', 'rgb': (26, 79, 140)},\n",
       " 'blue-800': {'h': 'b', 'l': 800, 'hex': '#163B66', 'rgb': (22, 59, 102)},\n",
       " 'blue-850': {'h': 'b', 'l': 850, 'hex': '#133051', 'rgb': (19, 48, 81)},\n",
       " 'blue-900': {'h': 'b', 'l': 900, 'hex': '#12253B', 'rgb': (18, 37, 59)},\n",
       " 'blue-950': {'h': 'b', 'l': 950, 'hex': '#101A24', 'rgb': (16, 26, 36)},\n",
       " 'purple-50': {'h': 'p', 'l': 50, 'hex': '#F0EAEC', 'rgb': (240, 234, 236)},\n",
       " 'purple-100': {'h': 'p', 'l': 100, 'hex': '#E2D9E9', 'rgb': (226, 217, 233)},\n",
       " 'purple-150': {'h': 'p', 'l': 150, 'hex': '#D3CAE6', 'rgb': (211, 202, 230)},\n",
       " 'purple-200': {'h': 'p', 'l': 200, 'hex': '#C4B9E0', 'rgb': (196, 185, 224)},\n",
       " 'purple-300': {'h': 'p', 'l': 300, 'hex': '#A699D0', 'rgb': (166, 153, 208)},\n",
       " 'purple-400': {'h': 'p', 'l': 400, 'hex': '#8B7EC8', 'rgb': (139, 126, 200)},\n",
       " 'purple-500': {'h': 'p', 'l': 500, 'hex': '#735EB5', 'rgb': (115, 94, 181)},\n",
       " 'purple-600': {'h': 'p', 'l': 600, 'hex': '#5E409D', 'rgb': (94, 64, 157)},\n",
       " 'purple-700': {'h': 'p', 'l': 700, 'hex': '#4F3685', 'rgb': (79, 54, 133)},\n",
       " 'purple-800': {'h': 'p', 'l': 800, 'hex': '#3C2A62', 'rgb': (60, 42, 98)},\n",
       " 'purple-850': {'h': 'p', 'l': 850, 'hex': '#31234E', 'rgb': (49, 35, 78)},\n",
       " 'purple-900': {'h': 'p', 'l': 900, 'hex': '#261C39', 'rgb': (38, 28, 57)},\n",
       " 'purple-950': {'h': 'p', 'l': 950, 'hex': '#1A1623', 'rgb': (26, 22, 35)},\n",
       " 'magenta-50': {'h': 'm', 'l': 50, 'hex': '#FEE4E5', 'rgb': (254, 228, 229)},\n",
       " 'magenta-100': {'h': 'm', 'l': 100, 'hex': '#FCCFDA', 'rgb': (252, 207, 218)},\n",
       " 'magenta-150': {'h': 'm', 'l': 150, 'hex': '#F9B9CF', 'rgb': (249, 185, 207)},\n",
       " 'magenta-200': {'h': 'm', 'l': 200, 'hex': '#F4A4C2', 'rgb': (244, 164, 194)},\n",
       " 'magenta-300': {'h': 'm', 'l': 300, 'hex': '#E47DA8', 'rgb': (228, 125, 168)},\n",
       " 'magenta-400': {'h': 'm', 'l': 400, 'hex': '#CE5D97', 'rgb': (206, 93, 151)},\n",
       " 'magenta-500': {'h': 'm', 'l': 500, 'hex': '#B74583', 'rgb': (183, 69, 131)},\n",
       " 'magenta-600': {'h': 'm', 'l': 600, 'hex': '#A02F6F', 'rgb': (160, 47, 111)},\n",
       " 'magenta-700': {'h': 'm', 'l': 700, 'hex': '#87285E', 'rgb': (135, 40, 94)},\n",
       " 'magenta-800': {'h': 'm', 'l': 800, 'hex': '#641F46', 'rgb': (100, 31, 70)},\n",
       " 'magenta-850': {'h': 'm', 'l': 850, 'hex': '#4F1B39', 'rgb': (79, 27, 57)},\n",
       " 'magenta-900': {'h': 'm', 'l': 900, 'hex': '#39172B', 'rgb': (57, 23, 43)},\n",
       " 'magenta-950': {'h': 'm', 'l': 950, 'hex': '#24131D', 'rgb': (36, 19, 29)}}"
      ]
     },
     "execution_count": 4,
     "metadata": {},
     "output_type": "execute_result"
    }
   ],
   "source": [
    "# All the colors as a dictionary\n",
    "Flexoki.colors.dict"
   ]
  },
  {
   "cell_type": "code",
   "execution_count": 5,
   "metadata": {},
   "outputs": [
    {
     "data": {
      "text/plain": [
       "[Color(name='paper', h='k', l=0, hex='#FFFCF0', rgb=(255, 252, 240)),\n",
       " Color(name='base-0', h='k', l=0, hex='#FFFCF0', rgb=(255, 252, 240)),\n",
       " Color(name='base-50', h='k', l=50, hex='#F2F0E5', rgb=(242, 240, 229)),\n",
       " Color(name='base-100', h='k', l=100, hex='#E6E4D9', rgb=(230, 228, 217)),\n",
       " Color(name='base-150', h='k', l=150, hex='#DAD8CE', rgb=(218, 216, 206)),\n",
       " Color(name='base-200', h='k', l=200, hex='#CECDC3', rgb=(206, 205, 195)),\n",
       " Color(name='base-300', h='k', l=300, hex='#B7B5AC', rgb=(183, 181, 172)),\n",
       " Color(name='base-400', h='k', l=400, hex='#9F9D96', rgb=(159, 157, 150)),\n",
       " Color(name='base-500', h='k', l=500, hex='#878580', rgb=(135, 133, 128)),\n",
       " Color(name='base-600', h='k', l=600, hex='#6F6E69', rgb=(111, 110, 105))]"
      ]
     },
     "execution_count": 5,
     "metadata": {},
     "output_type": "execute_result"
    }
   ],
   "source": [
    "# First 10 colors\n",
    "Flexoki.colors.to_list()[:10]"
   ]
  }
 ],
 "metadata": {
  "kernelspec": {
   "display_name": "Python 3",
   "language": "python",
   "name": "python3"
  },
  "language_info": {
   "codemirror_mode": {
    "name": "ipython",
    "version": 3
   },
   "file_extension": ".py",
   "mimetype": "text/x-python",
   "name": "python",
   "nbconvert_exporter": "python",
   "pygments_lexer": "ipython3",
   "version": "3.12.3"
  }
 },
 "nbformat": 4,
 "nbformat_minor": 2
}
