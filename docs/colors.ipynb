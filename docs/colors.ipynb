{
 "cells": [
  {
   "cell_type": "markdown",
   "metadata": {},
   "source": [
    "## The `Color` class\n",
    "\n",
    "The `Color` class defines a *single color* in the Flexoki system. Each `Color` will have the following attributes:\n",
    "\n",
    "- `name`: The string name of the color, generally of the form `hue-lightness` (with a dash `-` separating the two). This string name can be used to access the color using dictionary-style retrieval (see below). Example: `red-150`.\n",
    "\n",
    "- `h`: The hue of the color, using a single character for representation. This is intuitive for most colors (`r` for reds, `g` for greens), but the values spanning `paper` to `black` (referred to as `grey`, `gray`, or `base`) are represented by a `k`.\n",
    "\n",
    "- `l`: The lightness value of the color, as an integer. While technically spanning `0` to `1000`, these two values represent `paper` (white) and `black` respectively, so most values with an actual color to them will span `50` to `950`, with increments of either 50 or 100. Note that not all lightness values are assigned! Ex. `550` is not used, even though `150` and `850` are. Refer to the Flexoki documentation for details.\n",
    "\n",
    "- `hex`: The hex code of the color, represented as a string of the form `#RRGGBB`. Note that this is stored on its own, and is not dynamically computed from the `rgb` value!\n",
    "\n",
    "- `rgb`: A tuple with a length of three, representing the red, green, and blue values of the color, with each being an integer. Note that this is stored on its own, and is not dynamically computed from the `hex` value!"
   ]
  },
  {
   "cell_type": "code",
   "execution_count": null,
   "metadata": {},
   "outputs": [],
   "source": [
    "# Importing the kernel\n",
    "from flexoki import Flexoki\n",
    "# Accessing a color: red-150\n",
    "c = Flexoki.colors[\"red-150\"]\n",
    "# Displaying each of its attributes\n",
    "print(f\"The value of h is: {c.h}\")\n",
    "print(f\"The value of l is: {c.l}\")\n",
    "print(f\"The value of hex is: {c.hex}\")\n",
    "print(f\"The value of rgb is: {c.rgb}\")"
   ]
  },
  {
   "cell_type": "markdown",
   "metadata": {},
   "source": [
    "Several additional properties exist for this class as well:\n",
    "\n",
    "- `hue` and `lightness` are alternative ways of accessing the values `h` and `l`, respectively.\n",
    "\n",
    "- `rgba` will return a 4-tuple of the 3 `rgb` values, plus an a(lpha) value of 1.\n",
    "\n",
    "- Each of `r`, `g`, and `b` are separately callable."
   ]
  },
  {
   "cell_type": "code",
   "execution_count": null,
   "metadata": {},
   "outputs": [],
   "source": [
    "print(f\"The value of hue is: {c.hue}\")\n",
    "print(f\"The value of lightness is: {c.lightness}\")\n",
    "print(f\"The value of rgba is: {c.rgba}\")\n",
    "print(f\"The value of r is: {c.r}\")\n",
    "print(f\"The value of g is: {c.g}\")\n",
    "print(f\"The value of b is: {c.b}\")"
   ]
  },
  {
   "cell_type": "markdown",
   "metadata": {},
   "source": [
    "## `FlexokiSchema.colors`\n",
    "\n",
    "As shown in the example above, colors are primarily accessed via the `colors` subclass of the `FlexokiSchema` object (usually imported as `Flexoki`).\n",
    "\n",
    "Colors can be selected using \"dictionary-style\" recall, as above, from either the `colors` subclass or the `FlexokiSchema` object. They also exist as individual attributes of the `colors` subclass, with one notable difference: the dashes `-` are replaced with underscores `_` due to the limitation of Python's naming conventions."
   ]
  },
  {
   "cell_type": "code",
   "execution_count": null,
   "metadata": {},
   "outputs": [],
   "source": [
    "from flexoki import Flexoki\n",
    "# Dictionary-style calling\n",
    "Flexoki.colors[\"red-150\"]\n",
    "Flexoki[\"red-150\"] # equivalent to above\n",
    "# Attribute-style calling\n",
    "Flexoki.colors.red_150 # note the underscore!"
   ]
  },
  {
   "cell_type": "markdown",
   "metadata": {},
   "source": [
    "The `colors` subclass also has a few defined attributes and methods within it:\n",
    "\n",
    "- `dict`: Returns a dictionary of all colors, where the key is the *name* of the color and the value is another dictionary with all of the attributes of each color (ex. `{\"red-150\": {\"h\":\"r\", \"l\":150, etc.}}`).\n",
    "\n",
    "- `to_list`: Returns a list of all colors, as `Color` objects.\n",
    "\n",
    "- `_update_defaults` and `get_defaults`: These methods are explained in the documentation on *theming*.\n",
    "\n",
    "- `filter`: This method is explained in the documentation on *filtering*."
   ]
  },
  {
   "cell_type": "code",
   "execution_count": 1,
   "metadata": {},
   "outputs": [
    {
     "ename": "NameError",
     "evalue": "name 'Flexoki' is not defined",
     "output_type": "error",
     "traceback": [
      "\u001b[1;31m---------------------------------------------------------------------------\u001b[0m",
      "\u001b[1;31mNameError\u001b[0m                                 Traceback (most recent call last)",
      "Cell \u001b[1;32mIn[1], line 1\u001b[0m\n\u001b[1;32m----> 1\u001b[0m \u001b[43mFlexoki\u001b[49m\u001b[38;5;241m.\u001b[39mcolors\u001b[38;5;241m.\u001b[39mdict\n",
      "\u001b[1;31mNameError\u001b[0m: name 'Flexoki' is not defined"
     ]
    }
   ],
   "source": [
    "# All the colors as a dictionary\n",
    "Flexoki.colors.dict"
   ]
  },
  {
   "cell_type": "code",
   "execution_count": null,
   "metadata": {},
   "outputs": [],
   "source": [
    "# First 10 colors\n",
    "Flexoki.colors.to_list()[:10]"
   ]
  }
 ],
 "metadata": {
  "kernelspec": {
   "display_name": "personal",
   "language": "python",
   "name": "python3"
  },
  "language_info": {
   "codemirror_mode": {
    "name": "ipython",
    "version": 3
   },
   "file_extension": ".py",
   "mimetype": "text/x-python",
   "name": "python",
   "nbconvert_exporter": "python",
   "pygments_lexer": "ipython3",
   "version": "3.12.3"
  }
 },
 "nbformat": 4,
 "nbformat_minor": 2
}
