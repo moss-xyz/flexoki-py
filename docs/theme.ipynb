{
 "cells": [
  {
   "cell_type": "markdown",
   "metadata": {},
   "source": [
    "## Themes and Defaults\n",
    "\n",
    "I anticipate that one of the more common use cases of this package will be accessing a variety of hues with a consistent lightness value; i.e., I expect that someone using `red-300` will also be looking to use `purple-300` instead of `purple-150`.\n",
    "\n",
    "In order to make this easier, this package has the concepts of a `theme` with `default` values that make this process easier. By setting a `theme`, a user can set the `lightness` values for all of the `default` colors at once, which are the names of each `hue` without the `lightness` value attached (such as `red` or `purple`), making it less onerous to access them."
   ]
  },
  {
   "cell_type": "markdown",
   "metadata": {},
   "source": [
    "### Setting the Theme"
   ]
  },
  {
   "cell_type": "markdown",
   "metadata": {},
   "source": [
    "The Flexoki 2.0 schema outlines two `themes` that are available: `light` and `dark`, corresponding to `lightness` values of 600 and 400, respectively.\n",
    "\n",
    "By default, `FlexokiSchema` objects are instantiated with the `light` theme, and so the default colors have a lightness value of 600."
   ]
  },
  {
   "cell_type": "code",
   "execution_count": 1,
   "metadata": {},
   "outputs": [
    {
     "name": "stdout",
     "output_type": "stream",
     "text": [
      "Current theme: light\n",
      "Current lightness: 600\n"
     ]
    }
   ],
   "source": [
    "from flexoki import Flexoki\n",
    "print(f\"Current theme: {Flexoki.theme}\")\n",
    "print(f\"Current lightness: {Flexoki.colors.cyan.l}\")"
   ]
  },
  {
   "cell_type": "markdown",
   "metadata": {},
   "source": [
    "The theme can be changed directly, as shown below:"
   ]
  },
  {
   "cell_type": "code",
   "execution_count": 2,
   "metadata": {},
   "outputs": [
    {
     "name": "stdout",
     "output_type": "stream",
     "text": [
      "Current lightness: 400\n"
     ]
    }
   ],
   "source": [
    "Flexoki.theme = \"dark\"\n",
    "print(f\"Current lightness: {Flexoki.colors.cyan.l}\")"
   ]
  },
  {
   "cell_type": "markdown",
   "metadata": {},
   "source": [
    "It may also be changed with the `set_theme()` function:"
   ]
  },
  {
   "cell_type": "code",
   "execution_count": 3,
   "metadata": {},
   "outputs": [
    {
     "name": "stdout",
     "output_type": "stream",
     "text": [
      "Current lightness: 600\n"
     ]
    }
   ],
   "source": [
    "Flexoki.set_theme(\"light\")\n",
    "print(f\"Current lightness: {Flexoki.colors.cyan.l}\")"
   ]
  },
  {
   "cell_type": "markdown",
   "metadata": {},
   "source": [
    "### Setting Non-Standard Themes"
   ]
  },
  {
   "cell_type": "markdown",
   "metadata": {},
   "source": [
    "The Flexoki 2.0 schema only defines the `light` and `dark` themes, corresponding to the `lightness` values of 600 and 400. However, `FlexokiSchema` allows you to set a default `lightness` value for *any* accepted value between 50 and 950."
   ]
  },
  {
   "cell_type": "code",
   "execution_count": 4,
   "metadata": {},
   "outputs": [
    {
     "name": "stdout",
     "output_type": "stream",
     "text": [
      "Current lightness: 600\n"
     ]
    }
   ],
   "source": [
    "print(f\"Current lightness: {Flexoki.lightness}\")"
   ]
  },
  {
   "cell_type": "markdown",
   "metadata": {},
   "source": [
    "As with `theme`, this may be changed directly:"
   ]
  },
  {
   "cell_type": "code",
   "execution_count": 5,
   "metadata": {},
   "outputs": [
    {
     "name": "stdout",
     "output_type": "stream",
     "text": [
      "Current lightness: 50\n"
     ]
    }
   ],
   "source": [
    "Flexoki.lightness = 50\n",
    "print(f\"Current lightness: {Flexoki.colors.cyan.l}\")"
   ]
  },
  {
   "cell_type": "markdown",
   "metadata": {},
   "source": [
    "Or with a function, `set_lightness()`:"
   ]
  },
  {
   "cell_type": "code",
   "execution_count": 6,
   "metadata": {},
   "outputs": [
    {
     "name": "stdout",
     "output_type": "stream",
     "text": [
      "Current lightness: 950\n"
     ]
    }
   ],
   "source": [
    "Flexoki.set_lightness(950)\n",
    "print(f\"Current lightness: {Flexoki.colors.cyan.l}\")"
   ]
  },
  {
   "cell_type": "markdown",
   "metadata": {},
   "source": [
    "### The Default Palette"
   ]
  },
  {
   "cell_type": "markdown",
   "metadata": {},
   "source": [
    "A `Palette` of all the default colors is also available in the `palettes` subclass, and is updated whenever the `theme` is changed."
   ]
  },
  {
   "cell_type": "code",
   "execution_count": 7,
   "metadata": {},
   "outputs": [
    {
     "data": {
      "text/plain": [
       "['red-950',\n",
       " 'orange-950',\n",
       " 'yellow-950',\n",
       " 'green-950',\n",
       " 'cyan-950',\n",
       " 'blue-950',\n",
       " 'purple-950',\n",
       " 'magenta-950',\n",
       " 'base-950']"
      ]
     },
     "execution_count": 7,
     "metadata": {},
     "output_type": "execute_result"
    }
   ],
   "source": [
    "Flexoki.palettes.defaults.names()"
   ]
  },
  {
   "cell_type": "code",
   "execution_count": 8,
   "metadata": {},
   "outputs": [
    {
     "data": {
      "text/plain": [
       "['red-400',\n",
       " 'orange-400',\n",
       " 'yellow-400',\n",
       " 'green-400',\n",
       " 'cyan-400',\n",
       " 'blue-400',\n",
       " 'purple-400',\n",
       " 'magenta-400',\n",
       " 'base-400']"
      ]
     },
     "execution_count": 8,
     "metadata": {},
     "output_type": "execute_result"
    }
   ],
   "source": [
    "Flexoki.set_theme(\"dark\")\n",
    "Flexoki.palettes.defaults.names()"
   ]
  }
 ],
 "metadata": {
  "kernelspec": {
   "display_name": "Python 3",
   "language": "python",
   "name": "python3"
  },
  "language_info": {
   "codemirror_mode": {
    "name": "ipython",
    "version": 3
   },
   "file_extension": ".py",
   "mimetype": "text/x-python",
   "name": "python",
   "nbconvert_exporter": "python",
   "pygments_lexer": "ipython3",
   "version": "3.12.3"
  }
 },
 "nbformat": 4,
 "nbformat_minor": 2
}
