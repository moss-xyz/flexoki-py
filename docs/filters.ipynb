{
 "cells": [
  {
   "cell_type": "markdown",
   "metadata": {},
   "source": [
    "## Using the `filter()` function\n",
    "\n",
    "The `filter()` function provides a way for users to create ad-hoc subsets of Flexoki colors, based on hue and lightness values.\n",
    "\n",
    "It is callable from both the `FlexokiSchema` and `FlexokiSchema.colors` classes, with no differences between the two."
   ]
  },
  {
   "cell_type": "code",
   "execution_count": 1,
   "metadata": {},
   "outputs": [
    {
     "data": {
      "text/plain": [
       "<flexoki.core.Palette at 0x271326c4b60>"
      ]
     },
     "execution_count": 1,
     "metadata": {},
     "output_type": "execute_result"
    }
   ],
   "source": [
    "from flexoki import Flexoki\n",
    "\n",
    "Flexoki.filter()\n",
    "Flexoki.colors.filter() # equivalent"
   ]
  },
  {
   "cell_type": "markdown",
   "metadata": {},
   "source": [
    "### Filtering by `hue`\n",
    "\n",
    "The following inputs are accepted to filter by hue:\n",
    "\n",
    "- `None`: if `None` is passed, no filtering is done, and all hues will be returned. *This is the default.*\n",
    "\n",
    "- A single color name, such as `red`, will return just that hue.\n",
    "\n",
    "- A *list* of color names, such as `[\"red\", \"green\", \"purple\"]`, will return those hues *in that order*.\n",
    "\n",
    "- A single color letter, such as `r` for red, `p` for purple, or `k` for grey, will return just that hue.\n",
    "\n",
    "- A *list* of color letters, such as `[\"r\", \"g\", \"p\"]`, will return those hues *in that order*.\n",
    "\n",
    "- A *string* of color letters, such as `\"rgp\"`, will be parsed the same as the list above, returning those hues *in that order*.\n",
    "\n",
    "The mapping of single-letter color codes to their corresponding names is available in `utils.h_codes`, and also corresponds to the `h` property of each `Color` object."
   ]
  },
  {
   "cell_type": "code",
   "execution_count": 2,
   "metadata": {},
   "outputs": [
    {
     "data": {
      "text/plain": [
       "<flexoki.core.Palette at 0x271326c7080>"
      ]
     },
     "execution_count": 2,
     "metadata": {},
     "output_type": "execute_result"
    }
   ],
   "source": [
    "# Returning monochromatic palettes\n",
    "Flexoki.filter(h=\"red\") # will return only the red hues\n",
    "Flexoki.filter(h=\"g\") # will return only the green hues"
   ]
  },
  {
   "cell_type": "code",
   "execution_count": 3,
   "metadata": {},
   "outputs": [
    {
     "data": {
      "text/plain": [
       "<flexoki.core.Palette at 0x271326c7bf0>"
      ]
     },
     "execution_count": 3,
     "metadata": {},
     "output_type": "execute_result"
    }
   ],
   "source": [
    "# Returning multiple hues at once\n",
    "# All examples here will be for red-blue-cyan-yellow-base\n",
    "Flexoki.filter(h=[\"red\",\"blue\",\"cyan\",\"yellow\",\"base\"]) \n",
    "Flexoki.filter(h=[\"red\",\"blue\",\"cyan\",\"yellow\",\"grey\"]) # there are several aliases that work for the base palette - grey/gray, black, white\n",
    "Flexoki.filter(h=[\"r\",\"b\",\"c\",\"y\",\"k\"])\n",
    "Flexoki.filter(h=\"rbcyk\") # the shortest, most efficient way of doing so"
   ]
  },
  {
   "cell_type": "markdown",
   "metadata": {},
   "source": [
    "### Filtering by `lightness`\n",
    "\n",
    "The following inputs are accepted to filter by lightness:\n",
    "\n",
    "- `None`: if `None` is passed, no filtering is done, and all lightness values will be returned. *This is the default.*\n",
    "\n",
    "- A single lightness value, such as `400`, will return just the hues matching that lightness.\n",
    "\n",
    "- A *list* of lightness values, such as `[300, 150, 600]`, will return those lightness values *in that order*.\n",
    "\n",
    "- A `slice` or `range` object, such as `range(600,300)`, will return the lightness values between the `start` and `end` of that object, *inclusive of the start and end*.\n",
    "\n",
    "Remember that not all values between 0 and 1000 are instantiated - namely, values such as 450 and 550 do not exist, as of the Flexoki 2.0 update. The full list of lightness values is available in `utils.l_values`, and also corresponds to the `l` property of each `Color` object."
   ]
  },
  {
   "cell_type": "code",
   "execution_count": 4,
   "metadata": {},
   "outputs": [
    {
     "data": {
      "text/plain": [
       "<flexoki.core.Palette at 0x271326e0a40>"
      ]
     },
     "execution_count": 4,
     "metadata": {},
     "output_type": "execute_result"
    }
   ],
   "source": [
    "Flexoki.filter(l=150) # will return only the hues with a lightness value of 150\n",
    "Flexoki.filter(l=[300,150,600]) # will return each of these lightness values\n",
    "Flexoki.filter(l=range(600,300)) # will return all lightness values between 600 and 300, including 600 and 300"
   ]
  },
  {
   "cell_type": "markdown",
   "metadata": {},
   "source": [
    "### Return Order"
   ]
  },
  {
   "cell_type": "markdown",
   "metadata": {},
   "source": [
    "If multiple hues and lightness values are selected, the user has the option of selecting how they would like the colors ordered when returned, via the `order` argument:\n",
    "\n",
    "- If `order` is `None` or `h_l`: colors are ordered by lightness within their hue group, ex. `[\"red-150\",\"red-200\",\"green-150\",\"green-200\",...]`. *This is the default*.\n",
    "\n",
    "- If `order` is `l_h`: colors are ordered by hue within their lightness group, ex. `[\"red-150\",\"green-150\",\"red-200\",\"green-200\",...]`"
   ]
  },
  {
   "cell_type": "code",
   "execution_count": 5,
   "metadata": {},
   "outputs": [
    {
     "name": "stdout",
     "output_type": "stream",
     "text": [
      "h_l: ['base-800', 'base-200', 'base-500', 'orange-800', 'orange-200', 'orange-500', 'blue-800', 'blue-200', 'blue-500']\n",
      "l_h: ['base-800', 'orange-800', 'blue-800', 'base-200', 'orange-200', 'blue-200', 'base-500', 'orange-500', 'blue-500']\n"
     ]
    }
   ],
   "source": [
    "h_l = Flexoki.filter(h=\"kob\", l=[800,200,500], order=\"h_l\")\n",
    "print(f\"h_l: {h_l.names()}\")\n",
    "l_h = Flexoki.filter(h=\"kob\", l=[800,200,500], order=\"l_h\")\n",
    "print(f\"l_h: {l_h.names()}\")"
   ]
  },
  {
   "cell_type": "code",
   "execution_count": 6,
   "metadata": {},
   "outputs": [
    {
     "data": {
      "image/png": "[encoded data removed]",
      "text/plain": [
       "<Figure size 900x300 with 1 Axes>"
      ]
     },
     "metadata": {},
     "output_type": "display_data"
    }
   ],
   "source": [
    "import matplotlib.pyplot\n",
    "fig, ax = matplotlib.pyplot.subplots(1,1, figsize=(9,3))\n",
    "ax.set_xlim(0,10)\n",
    "ax.set_ylim(0,3)\n",
    "ax.set_yticks(range(1,3))\n",
    "ax.set_yticklabels([\"l_h\",\"h_l\"])\n",
    "ax.set_xticks([])\n",
    "\n",
    "for y,p in zip(range(1,3), [l_h,h_l]):\n",
    "    for x,c in enumerate(p.colors):\n",
    "        ax.plot(x+1,y, marker=\"o\", markerfacecolor=c.hex, markeredgecolor=\"black\", markersize=30, markeredgewidth=0.5)"
   ]
  },
  {
   "cell_type": "markdown",
   "metadata": {},
   "source": [
    "### Return Type"
   ]
  },
  {
   "cell_type": "markdown",
   "metadata": {},
   "source": [
    "The `returns` argument allows the user to specify what type of object they want returned, that may best suit their specific use case.\n",
    "\n",
    "- `None` or `palette`: return a `Palette`. *This is the default*.\n",
    "\n",
    "- `colors` or `colours`: a list of `Color` objects.\n",
    "\n",
    "- `hexes`, `rgb`, or `rgba`: a list of hex codes or rgb(a) tuples for each color."
   ]
  },
  {
   "cell_type": "code",
   "execution_count": 7,
   "metadata": {},
   "outputs": [
    {
     "name": "stdout",
     "output_type": "stream",
     "text": [
      "[Color(name='orange-800', h='o', l=800, hex='#71320D', rgb=(113, 50, 13)), Color(name='orange-500', h='o', l=500, hex='#CB6120', rgb=(203, 97, 32)), Color(name='green-800', h='g', l=800, hex='#3D4C07', rgb=(61, 76, 7)), Color(name='green-500', h='g', l=500, hex='#768D21', rgb=(118, 141, 33))]\n",
      "['#71320D', '#CB6120', '#3D4C07', '#768D21']\n",
      "[(113, 50, 13), (203, 97, 32), (61, 76, 7), (118, 141, 33)]\n"
     ]
    }
   ],
   "source": [
    "print(Flexoki.filter(h=[\"orange\",\"green\"], l=[800,500], returns=\"colors\"))\n",
    "print(Flexoki.filter(h=[\"orange\",\"green\"], l=[800,500], returns=\"hexes\"))\n",
    "print(Flexoki.filter(h=[\"orange\",\"green\"], l=[800,500], returns=\"rgb\"))"
   ]
  }
 ],
 "metadata": {
  "kernelspec": {
   "display_name": "Python 3",
   "language": "python",
   "name": "python3"
  },
  "language_info": {
   "codemirror_mode": {
    "name": "ipython",
    "version": 3
   },
   "file_extension": ".py",
   "mimetype": "text/x-python",
   "name": "python",
   "nbconvert_exporter": "python",
   "pygments_lexer": "ipython3",
   "version": "3.12.3"
  }
 },
 "nbformat": 4,
 "nbformat_minor": 2
}
