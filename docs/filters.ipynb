{
 "cells": [
  {
   "cell_type": "markdown",
   "metadata": {},
   "source": [
    "## Using the `filter()` function\n",
    "\n",
    "The `filter()` function provides a way for users to create ad-hoc subsets of Flexoki colors, based on hue and lightness values.\n",
    "\n",
    "It is callable from both the `FlexokiSchema` and `FlexokiSchema.colors` classes, with no differences between the two."
   ]
  },
  {
   "cell_type": "code",
   "execution_count": null,
   "metadata": {},
   "outputs": [],
   "source": [
    "from flexoki import Flexoki\n",
    "\n",
    "Flexoki.filter()\n",
    "Flexoki.colors.filter() # equivalent"
   ]
  },
  {
   "cell_type": "markdown",
   "metadata": {},
   "source": [
    "### Filtering by `hue`\n",
    "\n",
    "The following inputs are accepted to filter by hue:\n",
    "\n",
    "- `None`: if `None` is passed, no filtering is done, and all hues will be returned. *This is the default.*\n",
    "\n",
    "- A single color name, such as `red`, will return just that hue.\n",
    "\n",
    "- A *list* of color names, such as `[\"red\", \"green\", \"purple\"]`, will return those hues *in that order*.\n",
    "\n",
    "- A single color letter, such as `r` for red, `p` for purple, or `k` for grey, will return just that hue.\n",
    "\n",
    "- A *list* of color letters, such as `[\"r\", \"g\", \"p\"]`, will return those hues *in that order*.\n",
    "\n",
    "- A *string* of color letters, such as `\"rgp\"`, will be parsed the same as the list above, returning those hues *in that order*.\n",
    "\n",
    "The mapping of single-letter color codes to their corresponding names is available in `utils.h_codes`, and also corresponds to the `h` property of each `Color` object."
   ]
  },
  {
   "cell_type": "code",
   "execution_count": null,
   "metadata": {},
   "outputs": [],
   "source": [
    "# Returning monochromatic palettes\n",
    "Flexoki.filter(h=\"red\") # will return only the red hues\n",
    "Flexoki.filter(h=\"g\") # will return only the green hues"
   ]
  },
  {
   "cell_type": "code",
   "execution_count": null,
   "metadata": {},
   "outputs": [],
   "source": [
    "# Returning multiple hues at once\n",
    "# All examples here will be for red-blue-cyan-yellow-base\n",
    "Flexoki.filter(h=[\"red\",\"blue\",\"cyan\",\"yellow\",\"base\"]) \n",
    "Flexoki.filter(h=[\"red\",\"blue\",\"cyan\",\"yellow\",\"grey\"]) # there are several aliases that work for the base palette - grey/gray, black, white\n",
    "Flexoki.filter(h=[\"r\",\"b\",\"c\",\"y\",\"k\"])\n",
    "Flexoki.filter(h=\"rbcyk\") # the shortest, most efficient way of doing so"
   ]
  },
  {
   "cell_type": "markdown",
   "metadata": {},
   "source": [
    "### Filtering by `lightness`\n",
    "\n",
    "The following inputs are accepted to filter by lightness:\n",
    "\n",
    "- `None`: if `None` is passed, no filtering is done, and all lightness values will be returned. *This is the default.*\n",
    "\n",
    "- A single lightness value, such as `400`, will return just the hues matching that lightness.\n",
    "\n",
    "- A *list* of lightness values, such as `[300, 150, 600]`, will return those lightness values *in that order*.\n",
    "\n",
    "- A `slice` or `range` object, such as `range(600,300)`, will return the lightness values between the `start` and `end` of that object, *inclusive of the start and end*.\n",
    "\n",
    "Remember that not all values between 0 and 1000 are instantiated - namely, values such as 450 and 550 do not exist, as of the Flexoki 2.0 update. The full list of lightness values is available in `utils.l_values`, and also corresponds to the `l` property of each `Color` object."
   ]
  },
  {
   "cell_type": "code",
   "execution_count": null,
   "metadata": {},
   "outputs": [],
   "source": [
    "Flexoki.filter(l=150) # will return only the hues with a lightness value of 150\n",
    "Flexoki.filter(l=[300,150,600]) # will return all of these lightness values\n",
    "Flexoki.filter(l=range(600,300))"
   ]
  }
 ],
 "metadata": {
  "kernelspec": {
   "display_name": "personal",
   "language": "python",
   "name": "python3"
  },
  "language_info": {
   "codemirror_mode": {
    "name": "ipython",
    "version": 3
   },
   "file_extension": ".py",
   "mimetype": "text/x-python",
   "name": "python",
   "nbconvert_exporter": "python",
   "pygments_lexer": "ipython3",
   "version": "3.12.3"
  }
 },
 "nbformat": 4,
 "nbformat_minor": 2
}
